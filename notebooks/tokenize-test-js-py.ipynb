{
 "cells": [
  {
   "cell_type": "code",
   "execution_count": 1,
   "metadata": {},
   "outputs": [
    {
     "name": "stderr",
     "output_type": "stream",
     "text": [
      "/Users/chahal/Desktop/codedetective/env/lib/python3.12/site-packages/tqdm/auto.py:21: TqdmWarning: IProgress not found. Please update jupyter and ipywidgets. See https://ipywidgets.readthedocs.io/en/stable/user_install.html\n",
      "  from .autonotebook import tqdm as notebook_tqdm\n"
     ]
    }
   ],
   "source": [
    "from transformers import pipelines\n",
    "import tensorflow as tf\n",
    "import numpy as np\n",
    "import os\n",
    "import datasets\n",
    "from transformers import RobertaTokenizer\n",
    "from datasets import load_dataset, concatenate_datasets"
   ]
  },
  {
   "cell_type": "code",
   "execution_count": 9,
   "metadata": {},
   "outputs": [],
   "source": [
    "def load_and_preprocess_data(language):\n",
    "    # Load the dataset\n",
    "    dataset = load_dataset('code_search_net', language)\n",
    "\n",
    "    # Combine the training and validation datasets\n",
    "    combined_dataset = dataset['train'].concatenate(dataset['validation'])\n",
    "\n",
    "    # Shuffle the combined dataset\n",
    "    combined_dataset = combined_dataset.shuffle(seed=42)\n",
    "\n",
    "    # Split the dataset into 75% training and 25% testing\n",
    "    train_test_split = combined_dataset.train_test_split(test_size=0.25, seed=42)\n",
    "    train_dataset = train_test_split['train']\n",
    "    test_dataset = train_test_split['test']\n",
    "\n",
    "    # Split the training dataset into 90% training and 10% validation\n",
    "    train_validation_split = train_dataset.train_test_split(test_size=0.1, seed=42)\n",
    "    train_dataset = train_validation_split['train']\n",
    "    validation_dataset = train_validation_split['test']\n",
    "    return train_dataset, validation_dataset, test_dataset\n",
    "\n",
    "\n"
   ]
  },
  {
   "cell_type": "code",
   "execution_count": 7,
   "metadata": {},
   "outputs": [],
   "source": [
    "#tokenize the datasets return tensorflow tensors\n",
    "def preprocess_tokenizeation(dataset):\n",
    "    tokenizer = RobertaTokenizer.from_pretrained(\"microsoft/codebert-base\",trust_remote_code=True)\n",
    "    def preprocess_function(inputs):\n",
    "        \n",
    "        return tokenizer(inputs[\"code\"],trunacted = True,  padding='max_length', max_length=512, return_tensors=\"tf\")\n",
    "    tokenized_data = dataset.map(preprocess_function,batched=True)\n",
    "\n",
    "    \n",
    "    return tokenized_data\n",
    "\n",
    "#function converts tokenized data to a tf dataset for performance\n",
    "def to_tf(tokenized_data,batch_size=16):\n",
    "    return tokenized_data.to_tf_dataset(columns=[\"input_ids\", \"attention_mask\", \"label\"],\n",
    "            shuffle=True,\n",
    "            batch_size=batch_size,\n",
    "            collate_fn=lambda x: {'input_ids': x['input_ids'], 'attention_mask': x['attention_mask'], 'labels': x['label']}\n",
    "        )\n"
   ]
  },
  {
   "cell_type": "code",
   "execution_count": null,
   "metadata": {},
   "outputs": [],
   "source": []
  },
  {
   "cell_type": "code",
   "execution_count": 11,
   "metadata": {},
   "outputs": [
    {
     "ename": "TypeError",
     "evalue": "load_and_preprocess_data() got an unexpected keyword argument 'trust_remote_code'",
     "output_type": "error",
     "traceback": [
      "\u001b[0;31m---------------------------------------------------------------------------\u001b[0m",
      "\u001b[0;31mTypeError\u001b[0m                                 Traceback (most recent call last)",
      "Cell \u001b[0;32mIn[11], line 2\u001b[0m\n\u001b[1;32m      1\u001b[0m \u001b[38;5;66;03m# calls the above functions for the python and js datasets and then tokenizes them and converts them to tensorflow datasets\u001b[39;00m\n\u001b[0;32m----> 2\u001b[0m python_dataset \u001b[38;5;241m=\u001b[39m \u001b[43mload_and_preprocess_data\u001b[49m\u001b[43m(\u001b[49m\u001b[38;5;124;43m\"\u001b[39;49m\u001b[38;5;124;43mpython\u001b[39;49m\u001b[38;5;124;43m\"\u001b[39;49m\u001b[43m,\u001b[49m\u001b[43mtrust_remote_code\u001b[49m\u001b[38;5;241;43m=\u001b[39;49m\u001b[38;5;28;43;01mTrue\u001b[39;49;00m\u001b[43m)\u001b[49m\n\u001b[1;32m      3\u001b[0m js_dataset \u001b[38;5;241m=\u001b[39m load_and_preprocess_data(\u001b[38;5;124m'\u001b[39m\u001b[38;5;124mjavascript\u001b[39m\u001b[38;5;124m'\u001b[39m,trust_remote_code\u001b[38;5;241m=\u001b[39m\u001b[38;5;28;01mTrue\u001b[39;00m)\n\u001b[1;32m      5\u001b[0m python_dataset_tokenized \u001b[38;5;241m=\u001b[39m preprocess_tokenizeation(python_dataset)\n",
      "\u001b[0;31mTypeError\u001b[0m: load_and_preprocess_data() got an unexpected keyword argument 'trust_remote_code'"
     ]
    }
   ],
   "source": [
    "# calls the above functions for the python and js datasets and then tokenizes them and converts them to tensorflow datasets\n",
    "python_dataset = load_and_preprocess_data(\"python\")\n",
    "js_dataset = load_and_preprocess_data('javascript')\n",
    "\n",
    "python_dataset_tokenized = preprocess_tokenizeation(python_dataset)\n",
    "js_dataset_tokenized = preprocess_tokenizeation(js_dataset)\n",
    "\n",
    "python_Dset_tok_tf = to_tf(python_dataset_tokenized)\n",
    "js_Dset_tok_tf = to_tf(js_dataset_tokenized)\n"
   ]
  }
 ],
 "metadata": {
  "kernelspec": {
   "display_name": "env",
   "language": "python",
   "name": "python3"
  },
  "language_info": {
   "codemirror_mode": {
    "name": "ipython",
    "version": 3
   },
   "file_extension": ".py",
   "mimetype": "text/x-python",
   "name": "python",
   "nbconvert_exporter": "python",
   "pygments_lexer": "ipython3",
   "version": "3.12.4"
  }
 },
 "nbformat": 4,
 "nbformat_minor": 2
}
